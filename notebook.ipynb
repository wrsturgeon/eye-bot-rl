{
 "cells": [
  {
   "cell_type": "code",
   "execution_count": null,
   "id": "af03b96a-bae7-496a-9ca8-690afa5c871a",
   "metadata": {},
   "outputs": [],
   "source": [
    "%env MUJOCO_GL=egl\n",
    "!command -v ffmpeg >/dev/null || (apt update && apt install -y ffmpeg)\n",
    "!python3 -m pip install -Uq brax mediapy mujoco mujoco_mjx\n",
    "!if [ ! -d eye-bot-rl ]; then git clone https://github.com/wrsturgeon/eye-bot-rl.git; fi\n",
    "!./eye-bot-rl/brax_tutorial.py"
   ]
  }
 ],
 "metadata": {
  "kernelspec": {
   "display_name": "Python 3 (ipykernel)",
   "language": "python",
   "name": "python3"
  },
  "language_info": {
   "codemirror_mode": {
    "name": "ipython",
    "version": 3
   },
   "file_extension": ".py",
   "mimetype": "text/x-python",
   "name": "python",
   "nbconvert_exporter": "python",
   "pygments_lexer": "ipython3",
   "version": "3.13.3"
  }
 },
 "nbformat": 4,
 "nbformat_minor": 5
}
