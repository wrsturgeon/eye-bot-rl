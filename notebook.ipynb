{
 "cells": [
  {
   "cell_type": "code",
   "execution_count": 1,
   "id": "af03b96a-bae7-496a-9ca8-690afa5c871a",
   "metadata": {},
   "outputs": [
    {
     "name": "stdout",
     "output_type": "stream",
     "text": [
      "Importing NumPy...\n",
      "Importing JAX...\n",
      "Importing MuJoCo...\n",
      "Importing MJX...\n",
      "^C\n",
      "Traceback (most recent call last):\n",
      "  File \u001b[35m\"/Users/willsturgeon/Desktop/Code/eye-bot-rl/./brax_tutorial.py\"\u001b[0m, line \u001b[35m57\u001b[0m, in \u001b[35m<module>\u001b[0m\n",
      "    import brax\n",
      "  File \u001b[35m\"/usr/local/lib/python3.13/site-packages/brax/__init__.py\"\u001b[0m, line \u001b[35m19\u001b[0m, in \u001b[35m<module>\u001b[0m\n",
      "    from brax.base import Motion\n",
      "  File \u001b[35m\"/usr/local/lib/python3.13/site-packages/brax/base.py\"\u001b[0m, line \u001b[35m23\u001b[0m, in \u001b[35m<module>\u001b[0m\n",
      "    from flax import struct\n",
      "  File \u001b[35m\"/usr/local/lib/python3.13/site-packages/flax/__init__.py\"\u001b[0m, line \u001b[35m26\u001b[0m, in \u001b[35m<module>\u001b[0m\n",
      "    from flax import linen\n",
      "  File \u001b[35m\"/usr/local/lib/python3.13/site-packages/flax/linen/__init__.py\"\u001b[0m, line \u001b[35m39\u001b[0m, in \u001b[35m<module>\u001b[0m\n",
      "    from .activation import (\n",
      "    ...<26 lines>...\n",
      "    )\n",
      "  File \u001b[35m\"/usr/local/lib/python3.13/site-packages/flax/linen/activation.py\"\u001b[0m, line \u001b[35m21\u001b[0m, in \u001b[35m<module>\u001b[0m\n",
      "    from flax.linen.module import compact\n",
      "  File \u001b[35m\"/usr/local/lib/python3.13/site-packages/flax/linen/module.py\"\u001b[0m, line \u001b[35m983\u001b[0m, in \u001b[35m<module>\u001b[0m\n",
      "    class Module(ModuleBase):\n",
      "    ...<1929 lines>...\n",
      "        return {'/'.join(row.path): row.module_copy for row in table}\n",
      "  File \u001b[35m\"/usr/local/lib/python3.13/site-packages/flax/linen/module.py\"\u001b[0m, line \u001b[35m1704\u001b[0m, in \u001b[35mModule\u001b[0m\n",
      "    ) -> Variable[\u001b[31mmeta.AxisMetadata\u001b[0m\u001b[1;31m[T]\u001b[0m]:\n",
      "                  \u001b[31m~~~~~~~~~~~~~~~~~\u001b[0m\u001b[1;31m^^^\u001b[0m\n",
      "  File \u001b[35m\"/usr/local/Cellar/python@3.13/3.13.3_1/Frameworks/Python.framework/Versions/3.13/lib/python3.13/typing.py\"\u001b[0m, line \u001b[35m429\u001b[0m, in \u001b[35minner\u001b[0m\n",
      "    return \u001b[31m_caches[func]\u001b[0m\u001b[1;31m(*args, **kwds)\u001b[0m\n",
      "           \u001b[31m~~~~~~~~~~~~~\u001b[0m\u001b[1;31m^^^^^^^^^^^^^^^\u001b[0m\n",
      "  File \u001b[35m\"/usr/local/Cellar/python@3.13/3.13.3_1/Frameworks/Python.framework/Versions/3.13/lib/python3.13/typing.py\"\u001b[0m, line \u001b[35m1221\u001b[0m, in \u001b[35m_generic_class_getitem\u001b[0m\n",
      "    args = tuple(_type_convert(p) for p in args)\n",
      "\u001b[1;35mKeyboardInterrupt\u001b[0m\n"
     ]
    }
   ],
   "source": [
    "!./brax_tutorial.py"
   ]
  },
  {
   "cell_type": "code",
   "execution_count": null,
   "id": "60051533-6a95-4636-a6d1-1fd5edbad08b",
   "metadata": {},
   "outputs": [],
   "source": []
  }
 ],
 "metadata": {
  "kernelspec": {
   "display_name": "Python 3 (ipykernel)",
   "language": "python",
   "name": "python3"
  },
  "language_info": {
   "codemirror_mode": {
    "name": "ipython",
    "version": 3
   },
   "file_extension": ".py",
   "mimetype": "text/x-python",
   "name": "python",
   "nbconvert_exporter": "python",
   "pygments_lexer": "ipython3",
   "version": "3.13.3"
  }
 },
 "nbformat": 4,
 "nbformat_minor": 5
}
